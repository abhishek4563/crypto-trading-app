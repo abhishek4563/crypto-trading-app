{
 "cells": [
  {
   "cell_type": "markdown",
   "id": "dc763836",
   "metadata": {},
   "source": [
    "# Readme\n",
    "\n",
    "• These are the learnings on Pandas while I was working on crypto trading project. https://github.com/abhishek4563/crypto-trading-app \n",
    "\n",
    "• Created this to practice stuff learnt from tuts/videos on Pandas. I kept hitting some blockers due to my panda skills in the crypto algo project so decided to upskill in Pandas before moving forwards.\n",
    "\n",
    "• This Jupyter notebook corresponds to my OneNote under crypto trading project/Pandas. The notes has several notes, concepts links and  code. This Jupyter notebook should be used in conjunction with the OneNote note for proper understanding.\n",
    "\t"
   ]
  },
  {
   "cell_type": "markdown",
   "id": "e220a68f",
   "metadata": {},
   "source": [
    "# Resources\n",
    "\t• This is an excellent course by freecode camp on data analysis in Python, I gleamed over the pandas and numpy sections as they provide excellent understanding of the topics, later I might do the whole course for practice\n",
    "\t• This is a nice youtube tutorial going over basics of Pandas and creating dataframes in good depth \n",
    "\t• Nice tutorial with good level of explanation of common pandas tasks\n",
    "\t• Good tutorial by data camp\n",
    "    • Extensive tutorial by Geeks for Geeks but better as a reference !"
   ]
  },
  {
   "cell_type": "code",
   "execution_count": 2,
   "id": "49216110",
   "metadata": {},
   "outputs": [],
   "source": [
    "import numpy as np \n",
    "import pandas as pd\n",
    "import json \n",
    "import matplotlib.pyplot as plt\n",
    "import seaborn as sns\n",
    "import random\n",
    "import datetime as dt"
   ]
  },
  {
   "cell_type": "markdown",
   "id": "0c2e410e",
   "metadata": {},
   "source": [
    "# NumPy Basics"
   ]
  },
  {
   "cell_type": "markdown",
   "id": "8dcae97a",
   "metadata": {},
   "source": [
    "### Creating a Numpy Array "
   ]
  },
  {
   "cell_type": "code",
   "execution_count": 3,
   "id": "af9ccfa9",
   "metadata": {},
   "outputs": [
    {
     "data": {
      "text/plain": [
       "array([1, 2, 3, 4])"
      ]
     },
     "execution_count": 3,
     "metadata": {},
     "output_type": "execute_result"
    }
   ],
   "source": [
    "np.array([1,2,3,4])"
   ]
  },
  {
   "cell_type": "code",
   "execution_count": 4,
   "id": "86a60b97",
   "metadata": {},
   "outputs": [
    {
     "data": {
      "text/plain": [
       "array(['1', '2', '3', '4'], dtype='<U1')"
      ]
     },
     "execution_count": 4,
     "metadata": {},
     "output_type": "execute_result"
    }
   ],
   "source": [
    "np.array(['1','2','3','4']) # while Numpy can technically store strings its really not made for them (but instead for numbers and numerical calculations)"
   ]
  },
  {
   "cell_type": "code",
   "execution_count": 5,
   "id": "dec014d2",
   "metadata": {},
   "outputs": [],
   "source": [
    "a=np.array([1,2,3,4])"
   ]
  },
  {
   "cell_type": "code",
   "execution_count": 6,
   "id": "9a568fe7",
   "metadata": {},
   "outputs": [
    {
     "data": {
      "text/plain": [
       "array([1, 2, 3, 4])"
      ]
     },
     "execution_count": 6,
     "metadata": {},
     "output_type": "execute_result"
    }
   ],
   "source": [
    "a"
   ]
  },
  {
   "cell_type": "markdown",
   "id": "2acb09ee",
   "metadata": {},
   "source": [
    "### Basic Numpy Operations"
   ]
  },
  {
   "cell_type": "code",
   "execution_count": 7,
   "id": "407c732b",
   "metadata": {},
   "outputs": [
    {
     "data": {
      "text/plain": [
       "2"
      ]
     },
     "execution_count": 7,
     "metadata": {},
     "output_type": "execute_result"
    }
   ],
   "source": [
    "a[1]# we can do usual stuff as lists. Note that its actually returining the value (not the array - see below)"
   ]
  },
  {
   "cell_type": "code",
   "execution_count": 8,
   "id": "e17ff036",
   "metadata": {},
   "outputs": [
    {
     "data": {
      "text/plain": [
       "array([2, 3])"
      ]
     },
     "execution_count": 8,
     "metadata": {},
     "output_type": "execute_result"
    }
   ],
   "source": [
    "a[1:3] # note that its returning a Numpy array "
   ]
  },
  {
   "cell_type": "code",
   "execution_count": 9,
   "id": "9b4566da",
   "metadata": {},
   "outputs": [
    {
     "data": {
      "text/plain": [
       "array([1, 2, 3])"
      ]
     },
     "execution_count": 9,
     "metadata": {},
     "output_type": "execute_result"
    }
   ],
   "source": [
    "a[:-1]"
   ]
  },
  {
   "cell_type": "code",
   "execution_count": 10,
   "id": "abaa7ac0",
   "metadata": {
    "scrolled": true
   },
   "outputs": [
    {
     "data": {
      "text/plain": [
       "(2, 3, 1)"
      ]
     },
     "execution_count": 10,
     "metadata": {},
     "output_type": "execute_result"
    }
   ],
   "source": [
    "a[1],a[2],a[0]"
   ]
  },
  {
   "cell_type": "code",
   "execution_count": 11,
   "id": "2216e914",
   "metadata": {},
   "outputs": [
    {
     "data": {
      "text/plain": [
       "array([2, 3, 1])"
      ]
     },
     "execution_count": 11,
     "metadata": {},
     "output_type": "execute_result"
    }
   ],
   "source": [
    "a[[1,2,0]] # we can also call is passing a list of indexes we want to grab. It RETURNS an array in this case."
   ]
  },
  {
   "cell_type": "code",
   "execution_count": 12,
   "id": "8850f7a9",
   "metadata": {},
   "outputs": [
    {
     "data": {
      "text/plain": [
       "array([2])"
      ]
     },
     "execution_count": 12,
     "metadata": {},
     "output_type": "execute_result"
    }
   ],
   "source": [
    "a[[1]] # returns an array if we"
   ]
  },
  {
   "cell_type": "code",
   "execution_count": null,
   "id": "76fc62b2",
   "metadata": {},
   "outputs": [],
   "source": []
  },
  {
   "cell_type": "markdown",
   "id": "a7023370",
   "metadata": {},
   "source": [
    "### Data types"
   ]
  },
  {
   "cell_type": "code",
   "execution_count": 13,
   "id": "792aa10d",
   "metadata": {},
   "outputs": [
    {
     "data": {
      "text/plain": [
       "dtype('int64')"
      ]
     },
     "execution_count": 13,
     "metadata": {},
     "output_type": "execute_result"
    }
   ],
   "source": [
    "a.dtype # Numpy Assigns datatypes depending on type of data we are using it for,\n",
    "            #we can even specify this in code to be super efficient\n"
   ]
  },
  {
   "cell_type": "code",
   "execution_count": null,
   "id": "a08d666e",
   "metadata": {},
   "outputs": [],
   "source": []
  },
  {
   "cell_type": "markdown",
   "id": "c27c7138",
   "metadata": {},
   "source": [
    "### Multidimensional Numpy Arrays "
   ]
  },
  {
   "cell_type": "code",
   "execution_count": 14,
   "id": "46f83326",
   "metadata": {},
   "outputs": [],
   "source": [
    "b = np.array ([[1,2,3], [4,5,6]])"
   ]
  },
  {
   "cell_type": "code",
   "execution_count": 15,
   "id": "4c4b2c2b",
   "metadata": {},
   "outputs": [
    {
     "data": {
      "text/plain": [
       "array([[1, 2, 3],\n",
       "       [4, 5, 6]])"
      ]
     },
     "execution_count": 15,
     "metadata": {},
     "output_type": "execute_result"
    }
   ],
   "source": [
    "b"
   ]
  },
  {
   "cell_type": "code",
   "execution_count": 16,
   "id": "71fcd21d",
   "metadata": {
    "scrolled": true
   },
   "outputs": [
    {
     "ename": "SyntaxError",
     "evalue": "invalid syntax (426161129.py, line 3)",
     "output_type": "error",
     "traceback": [
      "\u001b[0;36m  Cell \u001b[0;32mIn[16], line 3\u001b[0;36m\u001b[0m\n\u001b[0;31m    b.size,b.)\u001b[0m\n\u001b[0m             ^\u001b[0m\n\u001b[0;31mSyntaxError\u001b[0m\u001b[0;31m:\u001b[0m invalid syntax\n"
     ]
    }
   ],
   "source": [
    "print (b.dtype,\n",
    "b.shape,\n",
    "b.size,b.)"
   ]
  },
  {
   "cell_type": "code",
   "execution_count": 19,
   "id": "47ccfe80",
   "metadata": {},
   "outputs": [
    {
     "data": {
      "text/plain": [
       "2"
      ]
     },
     "execution_count": 19,
     "metadata": {},
     "output_type": "execute_result"
    }
   ],
   "source": [
    "b[0][1] # this would be a way of referring to a particular cell\n",
    "        # Note that this is different from passing an array of indices \n",
    "        #that we want returned, that will have a different syntax ([[]])"
   ]
  },
  {
   "cell_type": "code",
   "execution_count": null,
   "id": "c5056ef2",
   "metadata": {},
   "outputs": [],
   "source": []
  },
  {
   "cell_type": "code",
   "execution_count": 20,
   "id": "ad20decf",
   "metadata": {},
   "outputs": [
    {
     "data": {
      "text/plain": [
       "2"
      ]
     },
     "execution_count": 20,
     "metadata": {},
     "output_type": "execute_result"
    }
   ],
   "source": [
    "b[0,1] # however, Numpy also allows us this shorthand for referring to elements, which is super handy when slicing"
   ]
  },
  {
   "cell_type": "code",
   "execution_count": 22,
   "id": "9ae936e3",
   "metadata": {},
   "outputs": [
    {
     "data": {
      "text/plain": [
       "array([[1, 2, 3]])"
      ]
     },
     "execution_count": 22,
     "metadata": {},
     "output_type": "execute_result"
    }
   ],
   "source": [
    "b[:1,:3] # slicing works exactly the same as Python lists (although its different for Pandas!)\n",
    "      "
   ]
  },
  {
   "cell_type": "code",
   "execution_count": null,
   "id": "2137ec95",
   "metadata": {},
   "outputs": [],
   "source": []
  },
  {
   "cell_type": "code",
   "execution_count": null,
   "id": "3cd2f3fa",
   "metadata": {},
   "outputs": [],
   "source": []
  },
  {
   "cell_type": "markdown",
   "id": "f91f0e3d",
   "metadata": {},
   "source": [
    "### Vectorization"
   ]
  },
  {
   "cell_type": "code",
   "execution_count": 23,
   "id": "732f158d",
   "metadata": {},
   "outputs": [
    {
     "data": {
      "text/plain": [
       "array([11, 12, 13, 14])"
      ]
     },
     "execution_count": 23,
     "metadata": {},
     "output_type": "execute_result"
    }
   ],
   "source": [
    "a+10 # vectorisation means that this operation will be applied to all elements of the array "
   ]
  },
  {
   "cell_type": "code",
   "execution_count": 24,
   "id": "52b76b67",
   "metadata": {},
   "outputs": [
    {
     "data": {
      "text/plain": [
       "array([10, 20, 30, 40])"
      ]
     },
     "execution_count": 24,
     "metadata": {},
     "output_type": "execute_result"
    }
   ],
   "source": [
    "a*10"
   ]
  },
  {
   "cell_type": "code",
   "execution_count": null,
   "id": "bf23dc70",
   "metadata": {},
   "outputs": [],
   "source": []
  },
  {
   "cell_type": "markdown",
   "id": "9328c75d",
   "metadata": {},
   "source": [
    "### Boolean Arrays"
   ]
  },
  {
   "attachments": {
    "image.png": {
     "image/png": "[encoded data removed]"
    }
   },
   "cell_type": "markdown",
   "id": "38f73b2d",
   "metadata": {},
   "source": [
    "Vectorization and Boolean Arrays \n",
    "• Vectorisation: a+10 or a*10, a + b, etc. vectorisation means that this operation will be applied to all elements of the array \n",
    "• Similarly a>2 will return a boolean array of trues and falses\n",
    "• 3 ways of selection\n",
    "\t• a[1], a[2]\n",
    "\t• a[[1,2]]\n",
    "\t• a[[true,false,true]\n",
    "\t\t○ This means we can also do stuff like [a[a>2]] which is really powerful way of selecting stuff \n",
    "![image.png](attachment:image.png)\n"
   ]
  },
  {
   "cell_type": "code",
   "execution_count": 25,
   "id": "d0a6e261",
   "metadata": {},
   "outputs": [
    {
     "data": {
      "text/plain": [
       "array([False, False,  True,  True])"
      ]
     },
     "execution_count": 25,
     "metadata": {},
     "output_type": "execute_result"
    }
   ],
   "source": [
    "a>2"
   ]
  },
  {
   "cell_type": "code",
   "execution_count": 26,
   "id": "82c35cf6",
   "metadata": {},
   "outputs": [
    {
     "data": {
      "text/plain": [
       "array([3, 4])"
      ]
     },
     "execution_count": 26,
     "metadata": {},
     "output_type": "execute_result"
    }
   ],
   "source": [
    "a[a>2] # there are 3 ways of selection, individual items, pass an array of indices, pass an array of boolean\n",
    "        # vectorisation means that we can generate this array with simple, intuitive syntax as here\n",
    "        # no need for extra [] as vectorised operation already generates an array "
   ]
  },
  {
   "cell_type": "code",
   "execution_count": 27,
   "id": "69c208f8",
   "metadata": {},
   "outputs": [
    {
     "data": {
      "text/plain": [
       "array([1, 2, 3, 4])"
      ]
     },
     "execution_count": 27,
     "metadata": {},
     "output_type": "execute_result"
    }
   ],
   "source": [
    "a[(a>a.mean()) | (a<4)] # we can combine expressions using | & etc BUT not use keywords and or etc. \n",
    "                        #like we do in regular python else it will throw error"
   ]
  },
  {
   "cell_type": "code",
   "execution_count": 28,
   "id": "0a4da15d",
   "metadata": {},
   "outputs": [
    {
     "data": {
      "text/plain": [
       "array([1, 2, 3, 4])"
      ]
     },
     "execution_count": 28,
     "metadata": {},
     "output_type": "execute_result"
    }
   ],
   "source": [
    "a.T # transfor, dot product, and other matrix operations etc. are already implemented and are very fast "
   ]
  },
  {
   "cell_type": "markdown",
   "id": "4556a673",
   "metadata": {},
   "source": [
    "# Pandas"
   ]
  },
  {
   "cell_type": "markdown",
   "id": "946ae938",
   "metadata": {},
   "source": [
    "## Pandas Series "
   ]
  },
  {
   "cell_type": "markdown",
   "id": "fd64c49f",
   "metadata": {},
   "source": [
    "### Intro"
   ]
  },
  {
   "cell_type": "code",
   "execution_count": 29,
   "id": "ce740d75",
   "metadata": {},
   "outputs": [],
   "source": [
    "g7_pop =  pd.Series([35.46, 63.95, 80.9, 60.6,128.0,64,310])"
   ]
  },
  {
   "cell_type": "code",
   "execution_count": 30,
   "id": "5cf890b4",
   "metadata": {},
   "outputs": [
    {
     "data": {
      "text/plain": [
       "0     35.46\n",
       "1     63.95\n",
       "2     80.90\n",
       "3     60.60\n",
       "4    128.00\n",
       "5     64.00\n",
       "6    310.00\n",
       "dtype: float64"
      ]
     },
     "execution_count": 30,
     "metadata": {},
     "output_type": "execute_result"
    }
   ],
   "source": [
    "g7_pop # it has a name, data type  and also an index, built on top of numpy array, different from a list "
   ]
  },
  {
   "cell_type": "code",
   "execution_count": 31,
   "id": "8fffb3c5",
   "metadata": {},
   "outputs": [],
   "source": [
    "g7_pop.index = ['canada','france','germany', 'italy','japan','uk','us']"
   ]
  },
  {
   "cell_type": "code",
   "execution_count": 32,
   "id": "320a3793",
   "metadata": {},
   "outputs": [
    {
     "data": {
      "text/plain": [
       "canada      35.46\n",
       "france      63.95\n",
       "germany     80.90\n",
       "italy       60.60\n",
       "japan      128.00\n",
       "uk          64.00\n",
       "us         310.00\n",
       "dtype: float64"
      ]
     },
     "execution_count": 32,
     "metadata": {},
     "output_type": "execute_result"
    }
   ],
   "source": [
    "g7_pop # looks like a dictionary now? but it is ordered!"
   ]
  },
  {
   "cell_type": "markdown",
   "id": "ff7924ba",
   "metadata": {},
   "source": [
    "### Viewing/Selection/Boolean Arrays"
   ]
  },
  {
   "cell_type": "code",
   "execution_count": 33,
   "id": "33701592",
   "metadata": {},
   "outputs": [
    {
     "data": {
      "text/plain": [
       "310.0"
      ]
     },
     "execution_count": 33,
     "metadata": {},
     "output_type": "execute_result"
    }
   ],
   "source": [
    "g7_pop['us']"
   ]
  },
  {
   "cell_type": "code",
   "execution_count": 34,
   "id": "0649df01",
   "metadata": {},
   "outputs": [
    {
     "data": {
      "text/plain": [
       "63.95"
      ]
     },
     "execution_count": 34,
     "metadata": {},
     "output_type": "execute_result"
    }
   ],
   "source": [
    "g7_pop[1]"
   ]
  },
  {
   "cell_type": "code",
   "execution_count": 35,
   "id": "ef429374",
   "metadata": {},
   "outputs": [
    {
     "data": {
      "text/plain": [
       "63.95"
      ]
     },
     "execution_count": 35,
     "metadata": {},
     "output_type": "execute_result"
    }
   ],
   "source": [
    "g7_pop.iloc[1] # althiugh it has an index, we could also refer to it by interger location \n",
    "                #even though the indexes are actually contry names!"
   ]
  },
  {
   "cell_type": "code",
   "execution_count": 36,
   "id": "164b0654",
   "metadata": {},
   "outputs": [
    {
     "data": {
      "text/plain": [
       "canada     35.46\n",
       "france     63.95\n",
       "germany    80.90\n",
       "italy      60.60\n",
       "dtype: float64"
      ]
     },
     "execution_count": 36,
     "metadata": {},
     "output_type": "execute_result"
    }
   ],
   "source": [
    "g7_pop['canada':'italy']# Italy is INCLUDED this is different from regular python or NumPy"
   ]
  },
  {
   "cell_type": "code",
   "execution_count": 37,
   "id": "10736e2d",
   "metadata": {
    "scrolled": true
   },
   "outputs": [
    {
     "data": {
      "text/plain": [
       "canada      35460000.0\n",
       "france      63950000.0\n",
       "germany     80900000.0\n",
       "italy       60600000.0\n",
       "japan      128000000.0\n",
       "uk          64000000.0\n",
       "us         310000000.0\n",
       "dtype: float64"
      ]
     },
     "execution_count": 37,
     "metadata": {},
     "output_type": "execute_result"
    }
   ],
   "source": [
    "    g7_pop*1000000"
   ]
  },
  {
   "cell_type": "code",
   "execution_count": 38,
   "id": "edda7ea1",
   "metadata": {},
   "outputs": [
    {
     "data": {
      "text/plain": [
       "canada     False\n",
       "france     False\n",
       "germany     True\n",
       "italy      False\n",
       "japan       True\n",
       "uk         False\n",
       "us          True\n",
       "dtype: bool"
      ]
     },
     "execution_count": 38,
     "metadata": {},
     "output_type": "execute_result"
    }
   ],
   "source": [
    "g7_pop>70 # the vectorised operations return a Pandas series (instead of an array) but the concepts of boolean\n",
    "            # arrays still applies here and is rather powerful"
   ]
  },
  {
   "cell_type": "code",
   "execution_count": 39,
   "id": "ecb49016",
   "metadata": {},
   "outputs": [
    {
     "data": {
      "text/plain": [
       "germany     80.9\n",
       "japan      128.0\n",
       "us         310.0\n",
       "dtype: float64"
      ]
     },
     "execution_count": 39,
     "metadata": {},
     "output_type": "execute_result"
    }
   ],
   "source": [
    "g7_pop[g7_pop>70] # boolean series can be used to select/filter just as in Numpy, although instead of array, we "
   ]
  },
  {
   "cell_type": "code",
   "execution_count": 40,
   "id": "515e9fbe",
   "metadata": {},
   "outputs": [
    {
     "data": {
      "text/plain": [
       "106.13"
      ]
     },
     "execution_count": 40,
     "metadata": {},
     "output_type": "execute_result"
    }
   ],
   "source": [
    "g7_pop.mean()"
   ]
  },
  {
   "cell_type": "markdown",
   "id": "2dbfcc3d",
   "metadata": {},
   "source": [
    "### Modifying series "
   ]
  },
  {
   "cell_type": "code",
   "execution_count": 41,
   "id": "8a910f34",
   "metadata": {},
   "outputs": [
    {
     "data": {
      "text/plain": [
       "canada      35.46\n",
       "france      63.95\n",
       "germany     80.90\n",
       "italy       60.60\n",
       "japan      128.00\n",
       "uk          64.00\n",
       "us         350.00\n",
       "dtype: float64"
      ]
     },
     "execution_count": 41,
     "metadata": {},
     "output_type": "execute_result"
    }
   ],
   "source": [
    "g7_pop['us'] =350\n",
    "g7_pop"
   ]
  },
  {
   "cell_type": "code",
   "execution_count": 42,
   "id": "386dd6f6",
   "metadata": {},
   "outputs": [
    {
     "data": {
      "text/plain": [
       "canada      34.50\n",
       "france      63.95\n",
       "germany     80.90\n",
       "italy       60.60\n",
       "japan      128.00\n",
       "uk          64.00\n",
       "us         350.00\n",
       "dtype: float64"
      ]
     },
     "execution_count": 42,
     "metadata": {},
     "output_type": "execute_result"
    }
   ],
   "source": [
    "g7_pop[0]=34.5\n",
    "g7_pop"
   ]
  },
  {
   "cell_type": "code",
   "execution_count": 43,
   "id": "99e2fdf1",
   "metadata": {},
   "outputs": [
    {
     "data": {
      "text/plain": [
       "canada      34.50\n",
       "france      63.95\n",
       "germany     80.90\n",
       "italy       60.60\n",
       "japan      128.00\n",
       "uk          64.00\n",
       "us          34.50\n",
       "dtype: float64"
      ]
     },
     "execution_count": 43,
     "metadata": {},
     "output_type": "execute_result"
    }
   ],
   "source": [
    "g7_pop.iloc[-1]=34.5\n",
    "g7_pop"
   ]
  },
  {
   "cell_type": "code",
   "execution_count": 44,
   "id": "b7e713ef",
   "metadata": {
    "scrolled": true
   },
   "outputs": [
    {
     "data": {
      "text/plain": [
       "canada      34.50\n",
       "france      63.95\n",
       "germany     97.08\n",
       "italy       60.60\n",
       "japan      153.60\n",
       "uk          64.00\n",
       "us          34.50\n",
       "dtype: float64"
      ]
     },
     "execution_count": 44,
     "metadata": {},
     "output_type": "execute_result"
    }
   ],
   "source": [
    "g7_pop[g7_pop>70] = g7_pop*1.2\n",
    "g7_pop"
   ]
  },
  {
   "cell_type": "code",
   "execution_count": 45,
   "id": "506b5df7",
   "metadata": {},
   "outputs": [],
   "source": [
    "g7_pop.iloc?"
   ]
  },
  {
   "cell_type": "markdown",
   "id": "2542bbed",
   "metadata": {},
   "source": [
    "## Dataframes"
   ]
  },
  {
   "cell_type": "markdown",
   "id": "025823be",
   "metadata": {},
   "source": [
    "### Dataframe Basics"
   ]
  },
  {
   "cell_type": "code",
   "execution_count": 46,
   "id": "611cdfc0",
   "metadata": {},
   "outputs": [],
   "source": [
    "pd.DataFrame?"
   ]
  },
  {
   "cell_type": "code",
   "execution_count": 47,
   "id": "603bf4f5",
   "metadata": {},
   "outputs": [],
   "source": [
    "# creating a df using a dictionary of name:column values, then optionally \n",
    "# defining the columns and indexes as well\n",
    "\n",
    "df= pd.DataFrame({'Population':[35.46,63.95,80.90,60.6,128,64,350],\n",
    "                'GDP':[\n",
    "                    1785387,\n",
    "                    2833687,\n",
    "                    3874437,\n",
    "                    2167744,\n",
    "                    4602367,\n",
    "                    2950039,\n",
    "                    17348075\n",
    "                ],\n",
    "                'Surface Area':[\n",
    "                     9984670,\n",
    "                    640679,\n",
    "                    357114,\n",
    "                    301336,\n",
    "                    377930,\n",
    "                    242495,\n",
    "                    9525067\n",
    "                ],\n",
    "                  'HDI': [\n",
    "                    0.913,\n",
    "                    0.888,\n",
    "                    0.916,\n",
    "                    0.873,\n",
    "                    0.891,\n",
    "                    0.907,\n",
    "                    0.915\n",
    "                ],\n",
    "                'Continent': [\n",
    "                    'America',\n",
    "                    'Europe',\n",
    "                    'Europe',\n",
    "                    'Europe',\n",
    "                    'Asia',\n",
    "                    'Europe',\n",
    "                    'America'\n",
    "                ]\n",
    "                },columns=['Population', 'GDP', 'Surface Area', 'HDI', 'Continent'])"
   ]
  },
  {
   "cell_type": "code",
   "execution_count": 48,
   "id": "decaf9e0",
   "metadata": {},
   "outputs": [
    {
     "data": {
      "text/html": [
       "<div>\n",
       "<style scoped>\n",
       "    .dataframe tbody tr th:only-of-type {\n",
       "        vertical-align: middle;\n",
       "    }\n",
       "\n",
       "    .dataframe tbody tr th {\n",
       "        vertical-align: top;\n",
       "    }\n",
       "\n",
       "    .dataframe thead th {\n",
       "        text-align: right;\n",
       "    }\n",
       "</style>\n",
       "<table border=\"1\" class=\"dataframe\">\n",
       "  <thead>\n",
       "    <tr style=\"text-align: right;\">\n",
       "      <th></th>\n",
       "      <th>Population</th>\n",
       "      <th>GDP</th>\n",
       "      <th>Surface Area</th>\n",
       "      <th>HDI</th>\n",
       "      <th>Continent</th>\n",
       "    </tr>\n",
       "  </thead>\n",
       "  <tbody>\n",
       "    <tr>\n",
       "      <th>0</th>\n",
       "      <td>35.46</td>\n",
       "      <td>1785387</td>\n",
       "      <td>9984670</td>\n",
       "      <td>0.913</td>\n",
       "      <td>America</td>\n",
       "    </tr>\n",
       "    <tr>\n",
       "      <th>1</th>\n",
       "      <td>63.95</td>\n",
       "      <td>2833687</td>\n",
       "      <td>640679</td>\n",
       "      <td>0.888</td>\n",
       "      <td>Europe</td>\n",
       "    </tr>\n",
       "    <tr>\n",
       "      <th>2</th>\n",
       "      <td>80.90</td>\n",
       "      <td>3874437</td>\n",
       "      <td>357114</td>\n",
       "      <td>0.916</td>\n",
       "      <td>Europe</td>\n",
       "    </tr>\n",
       "    <tr>\n",
       "      <th>3</th>\n",
       "      <td>60.60</td>\n",
       "      <td>2167744</td>\n",
       "      <td>301336</td>\n",
       "      <td>0.873</td>\n",
       "      <td>Europe</td>\n",
       "    </tr>\n",
       "    <tr>\n",
       "      <th>4</th>\n",
       "      <td>128.00</td>\n",
       "      <td>4602367</td>\n",
       "      <td>377930</td>\n",
       "      <td>0.891</td>\n",
       "      <td>Asia</td>\n",
       "    </tr>\n",
       "    <tr>\n",
       "      <th>5</th>\n",
       "      <td>64.00</td>\n",
       "      <td>2950039</td>\n",
       "      <td>242495</td>\n",
       "      <td>0.907</td>\n",
       "      <td>Europe</td>\n",
       "    </tr>\n",
       "    <tr>\n",
       "      <th>6</th>\n",
       "      <td>350.00</td>\n",
       "      <td>17348075</td>\n",
       "      <td>9525067</td>\n",
       "      <td>0.915</td>\n",
       "      <td>America</td>\n",
       "    </tr>\n",
       "  </tbody>\n",
       "</table>\n",
       "</div>"
      ],
      "text/plain": [
       "   Population       GDP  Surface Area    HDI Continent\n",
       "0       35.46   1785387       9984670  0.913   America\n",
       "1       63.95   2833687        640679  0.888    Europe\n",
       "2       80.90   3874437        357114  0.916    Europe\n",
       "3       60.60   2167744        301336  0.873    Europe\n",
       "4      128.00   4602367        377930  0.891      Asia\n",
       "5       64.00   2950039        242495  0.907    Europe\n",
       "6      350.00  17348075       9525067  0.915   America"
      ]
     },
     "execution_count": 48,
     "metadata": {},
     "output_type": "execute_result"
    }
   ],
   "source": [
    "df # dataframes are basically a combination of Pandas series, they have a column name and an index (row name) \n",
    "    # and are built on top of Numpy ndarrays "
   ]
  },
  {
   "cell_type": "code",
   "execution_count": 49,
   "id": "23b4ad99",
   "metadata": {},
   "outputs": [],
   "source": [
    "df.index=[\n",
    "    'Canada',\n",
    "    'France',\n",
    "    'Germany',\n",
    "    'Italy',\n",
    "    'Japan',\n",
    "    'United Kingdom',\n",
    "    'United States',\n",
    "]"
   ]
  },
  {
   "cell_type": "code",
   "execution_count": 50,
   "id": "c86df5bf",
   "metadata": {},
   "outputs": [
    {
     "data": {
      "text/html": [
       "<div>\n",
       "<style scoped>\n",
       "    .dataframe tbody tr th:only-of-type {\n",
       "        vertical-align: middle;\n",
       "    }\n",
       "\n",
       "    .dataframe tbody tr th {\n",
       "        vertical-align: top;\n",
       "    }\n",
       "\n",
       "    .dataframe thead th {\n",
       "        text-align: right;\n",
       "    }\n",
       "</style>\n",
       "<table border=\"1\" class=\"dataframe\">\n",
       "  <thead>\n",
       "    <tr style=\"text-align: right;\">\n",
       "      <th></th>\n",
       "      <th>Population</th>\n",
       "      <th>GDP</th>\n",
       "      <th>Surface Area</th>\n",
       "      <th>HDI</th>\n",
       "      <th>Continent</th>\n",
       "    </tr>\n",
       "  </thead>\n",
       "  <tbody>\n",
       "    <tr>\n",
       "      <th>Canada</th>\n",
       "      <td>35.46</td>\n",
       "      <td>1785387</td>\n",
       "      <td>9984670</td>\n",
       "      <td>0.913</td>\n",
       "      <td>America</td>\n",
       "    </tr>\n",
       "    <tr>\n",
       "      <th>France</th>\n",
       "      <td>63.95</td>\n",
       "      <td>2833687</td>\n",
       "      <td>640679</td>\n",
       "      <td>0.888</td>\n",
       "      <td>Europe</td>\n",
       "    </tr>\n",
       "    <tr>\n",
       "      <th>Germany</th>\n",
       "      <td>80.90</td>\n",
       "      <td>3874437</td>\n",
       "      <td>357114</td>\n",
       "      <td>0.916</td>\n",
       "      <td>Europe</td>\n",
       "    </tr>\n",
       "    <tr>\n",
       "      <th>Italy</th>\n",
       "      <td>60.60</td>\n",
       "      <td>2167744</td>\n",
       "      <td>301336</td>\n",
       "      <td>0.873</td>\n",
       "      <td>Europe</td>\n",
       "    </tr>\n",
       "    <tr>\n",
       "      <th>Japan</th>\n",
       "      <td>128.00</td>\n",
       "      <td>4602367</td>\n",
       "      <td>377930</td>\n",
       "      <td>0.891</td>\n",
       "      <td>Asia</td>\n",
       "    </tr>\n",
       "    <tr>\n",
       "      <th>United Kingdom</th>\n",
       "      <td>64.00</td>\n",
       "      <td>2950039</td>\n",
       "      <td>242495</td>\n",
       "      <td>0.907</td>\n",
       "      <td>Europe</td>\n",
       "    </tr>\n",
       "    <tr>\n",
       "      <th>United States</th>\n",
       "      <td>350.00</td>\n",
       "      <td>17348075</td>\n",
       "      <td>9525067</td>\n",
       "      <td>0.915</td>\n",
       "      <td>America</td>\n",
       "    </tr>\n",
       "  </tbody>\n",
       "</table>\n",
       "</div>"
      ],
      "text/plain": [
       "                Population       GDP  Surface Area    HDI Continent\n",
       "Canada               35.46   1785387       9984670  0.913   America\n",
       "France               63.95   2833687        640679  0.888    Europe\n",
       "Germany              80.90   3874437        357114  0.916    Europe\n",
       "Italy                60.60   2167744        301336  0.873    Europe\n",
       "Japan               128.00   4602367        377930  0.891      Asia\n",
       "United Kingdom       64.00   2950039        242495  0.907    Europe\n",
       "United States       350.00  17348075       9525067  0.915   America"
      ]
     },
     "execution_count": 50,
     "metadata": {},
     "output_type": "execute_result"
    }
   ],
   "source": [
    "df"
   ]
  },
  {
   "cell_type": "code",
   "execution_count": 84,
   "id": "9dec244b",
   "metadata": {},
   "outputs": [],
   "source": [
    "df= pd.DataFrame({'Population':[35.46,63.95,80.90,60.6,128,64,350],\n",
    "                'GDP':[\n",
    "                    1785387,\n",
    "                    2833687,\n",
    "                    3874437,\n",
    "                    2167744,\n",
    "                    4602367,\n",
    "                    2950039,\n",
    "                    17348075\n",
    "                ],\n",
    "                'Surface Area':[\n",
    "                     9984670,\n",
    "                    640679,\n",
    "                    357114,\n",
    "                    301336,\n",
    "                    377930,\n",
    "                    242495,\n",
    "                    9525067\n",
    "                ],\n",
    "                  'HDI': [\n",
    "                    0.913,\n",
    "                    0.888,\n",
    "                    0.916,\n",
    "                    0.873,\n",
    "                    0.891,\n",
    "                    0.907,\n",
    "                    0.915\n",
    "                ],\n",
    "                'Continent': [\n",
    "                    'America',\n",
    "                    'Europe',\n",
    "                    'Europe',\n",
    "                    'Europe',\n",
    "                    'Asia',\n",
    "                    'Europe',\n",
    "                    'America'\n",
    "                ]\n",
    "                },columns=['Population', 'GDP', 'Surface Area', 'HDI', 'Conti'],\n",
    "                index=[\n",
    "    'Canada',\n",
    "    'France',\n",
    "    'Germany',\n",
    "    'Italy',\n",
    "    'Japan',\n",
    "    'United Kingdom',\n",
    "    'US',\n",
    "                ])"
   ]
  },
  {
   "cell_type": "code",
   "execution_count": 85,
   "id": "61b48082",
   "metadata": {},
   "outputs": [
    {
     "data": {
      "text/html": [
       "<div>\n",
       "<style scoped>\n",
       "    .dataframe tbody tr th:only-of-type {\n",
       "        vertical-align: middle;\n",
       "    }\n",
       "\n",
       "    .dataframe tbody tr th {\n",
       "        vertical-align: top;\n",
       "    }\n",
       "\n",
       "    .dataframe thead th {\n",
       "        text-align: right;\n",
       "    }\n",
       "</style>\n",
       "<table border=\"1\" class=\"dataframe\">\n",
       "  <thead>\n",
       "    <tr style=\"text-align: right;\">\n",
       "      <th></th>\n",
       "      <th>Population</th>\n",
       "      <th>GDP</th>\n",
       "      <th>Surface Area</th>\n",
       "      <th>HDI</th>\n",
       "      <th>Conti</th>\n",
       "    </tr>\n",
       "  </thead>\n",
       "  <tbody>\n",
       "    <tr>\n",
       "      <th>Canada</th>\n",
       "      <td>35.46</td>\n",
       "      <td>1785387</td>\n",
       "      <td>9984670</td>\n",
       "      <td>0.913</td>\n",
       "      <td>NaN</td>\n",
       "    </tr>\n",
       "    <tr>\n",
       "      <th>France</th>\n",
       "      <td>63.95</td>\n",
       "      <td>2833687</td>\n",
       "      <td>640679</td>\n",
       "      <td>0.888</td>\n",
       "      <td>NaN</td>\n",
       "    </tr>\n",
       "    <tr>\n",
       "      <th>Germany</th>\n",
       "      <td>80.90</td>\n",
       "      <td>3874437</td>\n",
       "      <td>357114</td>\n",
       "      <td>0.916</td>\n",
       "      <td>NaN</td>\n",
       "    </tr>\n",
       "    <tr>\n",
       "      <th>Italy</th>\n",
       "      <td>60.60</td>\n",
       "      <td>2167744</td>\n",
       "      <td>301336</td>\n",
       "      <td>0.873</td>\n",
       "      <td>NaN</td>\n",
       "    </tr>\n",
       "    <tr>\n",
       "      <th>Japan</th>\n",
       "      <td>128.00</td>\n",
       "      <td>4602367</td>\n",
       "      <td>377930</td>\n",
       "      <td>0.891</td>\n",
       "      <td>NaN</td>\n",
       "    </tr>\n",
       "    <tr>\n",
       "      <th>United Kingdom</th>\n",
       "      <td>64.00</td>\n",
       "      <td>2950039</td>\n",
       "      <td>242495</td>\n",
       "      <td>0.907</td>\n",
       "      <td>NaN</td>\n",
       "    </tr>\n",
       "    <tr>\n",
       "      <th>US</th>\n",
       "      <td>350.00</td>\n",
       "      <td>17348075</td>\n",
       "      <td>9525067</td>\n",
       "      <td>0.915</td>\n",
       "      <td>NaN</td>\n",
       "    </tr>\n",
       "  </tbody>\n",
       "</table>\n",
       "</div>"
      ],
      "text/plain": [
       "                Population       GDP  Surface Area    HDI Conti\n",
       "Canada               35.46   1785387       9984670  0.913   NaN\n",
       "France               63.95   2833687        640679  0.888   NaN\n",
       "Germany              80.90   3874437        357114  0.916   NaN\n",
       "Italy                60.60   2167744        301336  0.873   NaN\n",
       "Japan               128.00   4602367        377930  0.891   NaN\n",
       "United Kingdom       64.00   2950039        242495  0.907   NaN\n",
       "US                  350.00  17348075       9525067  0.915   NaN"
      ]
     },
     "execution_count": 85,
     "metadata": {},
     "output_type": "execute_result"
    }
   ],
   "source": [
    "df"
   ]
  },
  {
   "cell_type": "code",
   "execution_count": 53,
   "id": "7d79f586",
   "metadata": {},
   "outputs": [
    {
     "name": "stdout",
     "output_type": "stream",
     "text": [
      "<class 'pandas.core.frame.DataFrame'>\n",
      "Index: 7 entries, Canada to US\n",
      "Data columns (total 5 columns):\n",
      " #   Column        Non-Null Count  Dtype  \n",
      "---  ------        --------------  -----  \n",
      " 0   Population    7 non-null      float64\n",
      " 1   GDP           7 non-null      int64  \n",
      " 2   Surface Area  7 non-null      int64  \n",
      " 3   HDI           7 non-null      float64\n",
      " 4   Conti         0 non-null      object \n",
      "dtypes: float64(2), int64(2), object(1)\n",
      "memory usage: 336.0+ bytes\n"
     ]
    }
   ],
   "source": [
    "df.info() # there are a number of interesting functions that we get from pandas that are helpful to \n",
    "            # quickly learn about the data"
   ]
  },
  {
   "cell_type": "code",
   "execution_count": 54,
   "id": "ad7ca83f",
   "metadata": {},
   "outputs": [
    {
     "data": {
      "text/plain": [
       "Index(['Canada', 'France', 'Germany', 'Italy', 'Japan', 'United Kingdom',\n",
       "       'US'],\n",
       "      dtype='object')"
      ]
     },
     "execution_count": 54,
     "metadata": {},
     "output_type": "execute_result"
    }
   ],
   "source": [
    "df.index"
   ]
  },
  {
   "cell_type": "code",
   "execution_count": 55,
   "id": "97bea633",
   "metadata": {},
   "outputs": [
    {
     "data": {
      "text/plain": [
       "Index(['Population', 'GDP', 'Surface Area', 'HDI', 'Conti'], dtype='object')"
      ]
     },
     "execution_count": 55,
     "metadata": {},
     "output_type": "execute_result"
    }
   ],
   "source": [
    "df.columns"
   ]
  },
  {
   "cell_type": "code",
   "execution_count": 56,
   "id": "d89791ab",
   "metadata": {},
   "outputs": [
    {
     "data": {
      "text/plain": [
       "35"
      ]
     },
     "execution_count": 56,
     "metadata": {},
     "output_type": "execute_result"
    }
   ],
   "source": [
    "df.size"
   ]
  },
  {
   "cell_type": "code",
   "execution_count": 57,
   "id": "66b4fe8c",
   "metadata": {},
   "outputs": [
    {
     "data": {
      "text/plain": [
       "(7, 5)"
      ]
     },
     "execution_count": 57,
     "metadata": {},
     "output_type": "execute_result"
    }
   ],
   "source": [
    "df.shape"
   ]
  },
  {
   "cell_type": "code",
   "execution_count": 58,
   "id": "c5960a92",
   "metadata": {},
   "outputs": [
    {
     "data": {
      "text/html": [
       "<div>\n",
       "<style scoped>\n",
       "    .dataframe tbody tr th:only-of-type {\n",
       "        vertical-align: middle;\n",
       "    }\n",
       "\n",
       "    .dataframe tbody tr th {\n",
       "        vertical-align: top;\n",
       "    }\n",
       "\n",
       "    .dataframe thead th {\n",
       "        text-align: right;\n",
       "    }\n",
       "</style>\n",
       "<table border=\"1\" class=\"dataframe\">\n",
       "  <thead>\n",
       "    <tr style=\"text-align: right;\">\n",
       "      <th></th>\n",
       "      <th>count</th>\n",
       "      <th>mean</th>\n",
       "      <th>std</th>\n",
       "      <th>min</th>\n",
       "      <th>25%</th>\n",
       "      <th>50%</th>\n",
       "      <th>75%</th>\n",
       "      <th>max</th>\n",
       "    </tr>\n",
       "  </thead>\n",
       "  <tbody>\n",
       "    <tr>\n",
       "      <th>Population</th>\n",
       "      <td>7.0</td>\n",
       "      <td>1.118443e+02</td>\n",
       "      <td>1.087659e+02</td>\n",
       "      <td>35.460</td>\n",
       "      <td>6.227500e+01</td>\n",
       "      <td>64.000</td>\n",
       "      <td>104.450</td>\n",
       "      <td>3.500000e+02</td>\n",
       "    </tr>\n",
       "    <tr>\n",
       "      <th>GDP</th>\n",
       "      <td>7.0</td>\n",
       "      <td>5.080248e+06</td>\n",
       "      <td>5.494020e+06</td>\n",
       "      <td>1785387.000</td>\n",
       "      <td>2.500716e+06</td>\n",
       "      <td>2950039.000</td>\n",
       "      <td>4238402.000</td>\n",
       "      <td>1.734808e+07</td>\n",
       "    </tr>\n",
       "    <tr>\n",
       "      <th>Surface Area</th>\n",
       "      <td>7.0</td>\n",
       "      <td>3.061327e+06</td>\n",
       "      <td>4.576187e+06</td>\n",
       "      <td>242495.000</td>\n",
       "      <td>3.292250e+05</td>\n",
       "      <td>377930.000</td>\n",
       "      <td>5082873.000</td>\n",
       "      <td>9.984670e+06</td>\n",
       "    </tr>\n",
       "    <tr>\n",
       "      <th>HDI</th>\n",
       "      <td>7.0</td>\n",
       "      <td>9.004286e-01</td>\n",
       "      <td>1.659174e-02</td>\n",
       "      <td>0.873</td>\n",
       "      <td>8.895000e-01</td>\n",
       "      <td>0.907</td>\n",
       "      <td>0.914</td>\n",
       "      <td>9.160000e-01</td>\n",
       "    </tr>\n",
       "  </tbody>\n",
       "</table>\n",
       "</div>"
      ],
      "text/plain": [
       "              count          mean           std          min           25%   \n",
       "Population      7.0  1.118443e+02  1.087659e+02       35.460  6.227500e+01  \\\n",
       "GDP             7.0  5.080248e+06  5.494020e+06  1785387.000  2.500716e+06   \n",
       "Surface Area    7.0  3.061327e+06  4.576187e+06   242495.000  3.292250e+05   \n",
       "HDI             7.0  9.004286e-01  1.659174e-02        0.873  8.895000e-01   \n",
       "\n",
       "                      50%          75%           max  \n",
       "Population         64.000      104.450  3.500000e+02  \n",
       "GDP           2950039.000  4238402.000  1.734808e+07  \n",
       "Surface Area   377930.000  5082873.000  9.984670e+06  \n",
       "HDI                 0.907        0.914  9.160000e-01  "
      ]
     },
     "execution_count": 58,
     "metadata": {},
     "output_type": "execute_result"
    }
   ],
   "source": [
    "df.describe().T # ONLY for numeric columns!"
   ]
  },
  {
   "cell_type": "code",
   "execution_count": null,
   "id": "7869cab6",
   "metadata": {},
   "outputs": [],
   "source": [
    "df.dtypes"
   ]
  },
  {
   "cell_type": "markdown",
   "id": "f035c5ee",
   "metadata": {},
   "source": [
    "### Indexing selecting and slicing "
   ]
  },
  {
   "cell_type": "code",
   "execution_count": 66,
   "id": "0463246b",
   "metadata": {},
   "outputs": [
    {
     "data": {
      "text/plain": [
       "Population        35.46\n",
       "GDP             1785387\n",
       "Surface Area    9984670\n",
       "HDI               0.913\n",
       "Conti               NaN\n",
       "Name: Canada, dtype: object"
      ]
     },
     "execution_count": 66,
     "metadata": {},
     "output_type": "execute_result"
    }
   ],
   "source": [
    "df.loc['Canada'] # loc and iloc work horizontally while [] works vertically. \n",
    "                    #All of them return a Pandas series and require square brackets \n",
    "                    # .loc[] works on indexes, .iloc[] works on sequential ordering \n",
    "# df.loc[0] throws error\n",
    "# df.loc['Population'] throws error "
   ]
  },
  {
   "cell_type": "code",
   "execution_count": 67,
   "id": "c37a28d9",
   "metadata": {},
   "outputs": [
    {
     "data": {
      "text/plain": [
       "35.46"
      ]
     },
     "execution_count": 67,
     "metadata": {},
     "output_type": "execute_result"
    }
   ],
   "source": [
    "df.loc['Canada']['Population']\n"
   ]
  },
  {
   "cell_type": "code",
   "execution_count": 68,
   "id": "809d579f",
   "metadata": {},
   "outputs": [
    {
     "data": {
      "text/plain": [
       "Population        63.95\n",
       "GDP             2833687\n",
       "Surface Area     640679\n",
       "HDI               0.888\n",
       "Conti               NaN\n",
       "Name: France, dtype: object"
      ]
     },
     "execution_count": 68,
     "metadata": {},
     "output_type": "execute_result"
    }
   ],
   "source": [
    "df.iloc[1]\n"
   ]
  },
  {
   "cell_type": "code",
   "execution_count": 69,
   "id": "b1eab37c",
   "metadata": {},
   "outputs": [
    {
     "data": {
      "text/plain": [
       "63.95"
      ]
     },
     "execution_count": 69,
     "metadata": {},
     "output_type": "execute_result"
    }
   ],
   "source": [
    "df.iloc[1][0]\n"
   ]
  },
  {
   "cell_type": "code",
   "execution_count": 70,
   "id": "998a6111",
   "metadata": {},
   "outputs": [
    {
     "data": {
      "text/plain": [
       "Canada             1785387\n",
       "France             2833687\n",
       "Germany            3874437\n",
       "Italy              2167744\n",
       "Japan              4602367\n",
       "United Kingdom     2950039\n",
       "US                17348075\n",
       "Name: GDP, dtype: int64"
      ]
     },
     "execution_count": 70,
     "metadata": {},
     "output_type": "execute_result"
    }
   ],
   "source": [
    "df['GDP']\n",
    "# df[0] throws error\n",
    "# df['Canada'] throws error\n"
   ]
  },
  {
   "cell_type": "code",
   "execution_count": 71,
   "id": "3256b708",
   "metadata": {},
   "outputs": [
    {
     "data": {
      "text/plain": [
       "Canada             35.46\n",
       "France             63.95\n",
       "Germany            80.90\n",
       "Italy              60.60\n",
       "Japan             128.00\n",
       "United Kingdom     64.00\n",
       "US                350.00\n",
       "Name: Population, dtype: float64"
      ]
     },
     "execution_count": 71,
     "metadata": {},
     "output_type": "execute_result"
    }
   ],
   "source": [
    "df['Population']\n"
   ]
  },
  {
   "cell_type": "code",
   "execution_count": 72,
   "id": "f14c94b2",
   "metadata": {},
   "outputs": [
    {
     "data": {
      "text/html": [
       "<div>\n",
       "<style scoped>\n",
       "    .dataframe tbody tr th:only-of-type {\n",
       "        vertical-align: middle;\n",
       "    }\n",
       "\n",
       "    .dataframe tbody tr th {\n",
       "        vertical-align: top;\n",
       "    }\n",
       "\n",
       "    .dataframe thead th {\n",
       "        text-align: right;\n",
       "    }\n",
       "</style>\n",
       "<table border=\"1\" class=\"dataframe\">\n",
       "  <thead>\n",
       "    <tr style=\"text-align: right;\">\n",
       "      <th></th>\n",
       "      <th>Population</th>\n",
       "      <th>GDP</th>\n",
       "      <th>Surface Area</th>\n",
       "      <th>HDI</th>\n",
       "      <th>Conti</th>\n",
       "    </tr>\n",
       "  </thead>\n",
       "  <tbody>\n",
       "    <tr>\n",
       "      <th>France</th>\n",
       "      <td>63.95</td>\n",
       "      <td>2833687</td>\n",
       "      <td>640679</td>\n",
       "      <td>0.888</td>\n",
       "      <td>NaN</td>\n",
       "    </tr>\n",
       "    <tr>\n",
       "      <th>Germany</th>\n",
       "      <td>80.90</td>\n",
       "      <td>3874437</td>\n",
       "      <td>357114</td>\n",
       "      <td>0.916</td>\n",
       "      <td>NaN</td>\n",
       "    </tr>\n",
       "    <tr>\n",
       "      <th>Italy</th>\n",
       "      <td>60.60</td>\n",
       "      <td>2167744</td>\n",
       "      <td>301336</td>\n",
       "      <td>0.873</td>\n",
       "      <td>NaN</td>\n",
       "    </tr>\n",
       "  </tbody>\n",
       "</table>\n",
       "</div>"
      ],
      "text/plain": [
       "         Population      GDP  Surface Area    HDI Conti\n",
       "France        63.95  2833687        640679  0.888   NaN\n",
       "Germany       80.90  3874437        357114  0.916   NaN\n",
       "Italy         60.60  2167744        301336  0.873   NaN"
      ]
     },
     "execution_count": 72,
     "metadata": {},
     "output_type": "execute_result"
    }
   ],
   "source": [
    "df.loc['France':'Italy'] # notice the .loc for slicing, else same as Series "
   ]
  },
  {
   "cell_type": "code",
   "execution_count": 73,
   "id": "8ee5aead",
   "metadata": {},
   "outputs": [
    {
     "data": {
      "text/plain": [
       "France     63.95\n",
       "Germany    80.90\n",
       "Italy      60.60\n",
       "Name: Population, dtype: float64"
      ]
     },
     "execution_count": 73,
     "metadata": {},
     "output_type": "execute_result"
    }
   ],
   "source": [
    "df.loc['France':'Italy','Population'] # first argument is filtering criteria, second is the columns we want!!!"
   ]
  },
  {
   "cell_type": "code",
   "execution_count": 74,
   "id": "487a60e7",
   "metadata": {},
   "outputs": [
    {
     "data": {
      "text/plain": [
       "France     63.95\n",
       "Germany    80.90\n",
       "Italy      60.60\n",
       "Name: Population, dtype: float64"
      ]
     },
     "execution_count": 74,
     "metadata": {},
     "output_type": "execute_result"
    }
   ],
   "source": [
    "df.loc['France':'Italy']['Population'] \n"
   ]
  },
  {
   "cell_type": "code",
   "execution_count": 75,
   "id": "564640e3",
   "metadata": {},
   "outputs": [
    {
     "data": {
      "text/html": [
       "<div>\n",
       "<style scoped>\n",
       "    .dataframe tbody tr th:only-of-type {\n",
       "        vertical-align: middle;\n",
       "    }\n",
       "\n",
       "    .dataframe tbody tr th {\n",
       "        vertical-align: top;\n",
       "    }\n",
       "\n",
       "    .dataframe thead th {\n",
       "        text-align: right;\n",
       "    }\n",
       "</style>\n",
       "<table border=\"1\" class=\"dataframe\">\n",
       "  <thead>\n",
       "    <tr style=\"text-align: right;\">\n",
       "      <th></th>\n",
       "      <th>Population</th>\n",
       "      <th>GDP</th>\n",
       "    </tr>\n",
       "  </thead>\n",
       "  <tbody>\n",
       "    <tr>\n",
       "      <th>France</th>\n",
       "      <td>63.95</td>\n",
       "      <td>2833687</td>\n",
       "    </tr>\n",
       "    <tr>\n",
       "      <th>Germany</th>\n",
       "      <td>80.90</td>\n",
       "      <td>3874437</td>\n",
       "    </tr>\n",
       "    <tr>\n",
       "      <th>Italy</th>\n",
       "      <td>60.60</td>\n",
       "      <td>2167744</td>\n",
       "    </tr>\n",
       "  </tbody>\n",
       "</table>\n",
       "</div>"
      ],
      "text/plain": [
       "         Population      GDP\n",
       "France        63.95  2833687\n",
       "Germany       80.90  3874437\n",
       "Italy         60.60  2167744"
      ]
     },
     "execution_count": 75,
     "metadata": {},
     "output_type": "execute_result"
    }
   ],
   "source": [
    "df.loc['France':'Italy',['Population','GDP']] # if more than one columns we need to provide as an array \n",
    "                                            # note that we are using .loc[] for this not just []"
   ]
  },
  {
   "cell_type": "code",
   "execution_count": 76,
   "id": "7cb52672",
   "metadata": {},
   "outputs": [
    {
     "data": {
      "text/html": [
       "<div>\n",
       "<style scoped>\n",
       "    .dataframe tbody tr th:only-of-type {\n",
       "        vertical-align: middle;\n",
       "    }\n",
       "\n",
       "    .dataframe tbody tr th {\n",
       "        vertical-align: top;\n",
       "    }\n",
       "\n",
       "    .dataframe thead th {\n",
       "        text-align: right;\n",
       "    }\n",
       "</style>\n",
       "<table border=\"1\" class=\"dataframe\">\n",
       "  <thead>\n",
       "    <tr style=\"text-align: right;\">\n",
       "      <th></th>\n",
       "      <th>Population</th>\n",
       "      <th>GDP</th>\n",
       "      <th>Surface Area</th>\n",
       "      <th>HDI</th>\n",
       "      <th>Conti</th>\n",
       "    </tr>\n",
       "  </thead>\n",
       "  <tbody>\n",
       "    <tr>\n",
       "      <th>France</th>\n",
       "      <td>63.95</td>\n",
       "      <td>2833687</td>\n",
       "      <td>640679</td>\n",
       "      <td>0.888</td>\n",
       "      <td>NaN</td>\n",
       "    </tr>\n",
       "    <tr>\n",
       "      <th>Germany</th>\n",
       "      <td>80.90</td>\n",
       "      <td>3874437</td>\n",
       "      <td>357114</td>\n",
       "      <td>0.916</td>\n",
       "      <td>NaN</td>\n",
       "    </tr>\n",
       "  </tbody>\n",
       "</table>\n",
       "</div>"
      ],
      "text/plain": [
       "         Population      GDP  Surface Area    HDI Conti\n",
       "France        63.95  2833687        640679  0.888   NaN\n",
       "Germany       80.90  3874437        357114  0.916   NaN"
      ]
     },
     "execution_count": 76,
     "metadata": {},
     "output_type": "execute_result"
    }
   ],
   "source": [
    "df.iloc[1:3] # select rows by position using iloc"
   ]
  },
  {
   "cell_type": "code",
   "execution_count": 77,
   "id": "0d426033",
   "metadata": {},
   "outputs": [
    {
     "data": {
      "text/html": [
       "<div>\n",
       "<style scoped>\n",
       "    .dataframe tbody tr th:only-of-type {\n",
       "        vertical-align: middle;\n",
       "    }\n",
       "\n",
       "    .dataframe tbody tr th {\n",
       "        vertical-align: top;\n",
       "    }\n",
       "\n",
       "    .dataframe thead th {\n",
       "        text-align: right;\n",
       "    }\n",
       "</style>\n",
       "<table border=\"1\" class=\"dataframe\">\n",
       "  <thead>\n",
       "    <tr style=\"text-align: right;\">\n",
       "      <th></th>\n",
       "      <th>Surface Area</th>\n",
       "      <th>HDI</th>\n",
       "    </tr>\n",
       "  </thead>\n",
       "  <tbody>\n",
       "    <tr>\n",
       "      <th>France</th>\n",
       "      <td>640679</td>\n",
       "      <td>0.888</td>\n",
       "    </tr>\n",
       "    <tr>\n",
       "      <th>Germany</th>\n",
       "      <td>357114</td>\n",
       "      <td>0.916</td>\n",
       "    </tr>\n",
       "  </tbody>\n",
       "</table>\n",
       "</div>"
      ],
      "text/plain": [
       "         Surface Area    HDI\n",
       "France         640679  0.888\n",
       "Germany        357114  0.916"
      ]
     },
     "execution_count": 77,
     "metadata": {},
     "output_type": "execute_result"
    }
   ],
   "source": [
    "\n",
    "df.iloc[1:3,2:4] # slicing by rows and columns using loc as well as iloc\n",
    "                # note that it will n-1 for slicing not upto n as we will expect with regular python"
   ]
  },
  {
   "cell_type": "markdown",
   "id": "bbf45a32",
   "metadata": {},
   "source": [
    "### Condiitonal selection"
   ]
  },
  {
   "cell_type": "code",
   "execution_count": 59,
   "id": "3435287e",
   "metadata": {},
   "outputs": [
    {
     "data": {
      "text/plain": [
       "Canada            False\n",
       "France            False\n",
       "Germany            True\n",
       "Italy             False\n",
       "Japan              True\n",
       "United Kingdom    False\n",
       "US                 True\n",
       "Name: Population, dtype: bool"
      ]
     },
     "execution_count": 59,
     "metadata": {},
     "output_type": "execute_result"
    }
   ],
   "source": [
    "df['Population']  >70"
   ]
  },
  {
   "cell_type": "code",
   "execution_count": 60,
   "id": "bc420d14",
   "metadata": {},
   "outputs": [
    {
     "data": {
      "text/html": [
       "<div>\n",
       "<style scoped>\n",
       "    .dataframe tbody tr th:only-of-type {\n",
       "        vertical-align: middle;\n",
       "    }\n",
       "\n",
       "    .dataframe tbody tr th {\n",
       "        vertical-align: top;\n",
       "    }\n",
       "\n",
       "    .dataframe thead th {\n",
       "        text-align: right;\n",
       "    }\n",
       "</style>\n",
       "<table border=\"1\" class=\"dataframe\">\n",
       "  <thead>\n",
       "    <tr style=\"text-align: right;\">\n",
       "      <th></th>\n",
       "      <th>Population</th>\n",
       "      <th>GDP</th>\n",
       "      <th>Surface Area</th>\n",
       "      <th>HDI</th>\n",
       "      <th>Conti</th>\n",
       "    </tr>\n",
       "  </thead>\n",
       "  <tbody>\n",
       "    <tr>\n",
       "      <th>Germany</th>\n",
       "      <td>80.9</td>\n",
       "      <td>3874437</td>\n",
       "      <td>357114</td>\n",
       "      <td>0.916</td>\n",
       "      <td>NaN</td>\n",
       "    </tr>\n",
       "    <tr>\n",
       "      <th>Japan</th>\n",
       "      <td>128.0</td>\n",
       "      <td>4602367</td>\n",
       "      <td>377930</td>\n",
       "      <td>0.891</td>\n",
       "      <td>NaN</td>\n",
       "    </tr>\n",
       "    <tr>\n",
       "      <th>US</th>\n",
       "      <td>350.0</td>\n",
       "      <td>17348075</td>\n",
       "      <td>9525067</td>\n",
       "      <td>0.915</td>\n",
       "      <td>NaN</td>\n",
       "    </tr>\n",
       "  </tbody>\n",
       "</table>\n",
       "</div>"
      ],
      "text/plain": [
       "         Population       GDP  Surface Area    HDI Conti\n",
       "Germany        80.9   3874437        357114  0.916   NaN\n",
       "Japan         128.0   4602367        377930  0.891   NaN\n",
       "US            350.0  17348075       9525067  0.915   NaN"
      ]
     },
     "execution_count": 60,
     "metadata": {},
     "output_type": "execute_result"
    }
   ],
   "source": [
    "df.loc[df['Population']>70] # we can filter based on vectorised logical operation BUT NOTE the use of .loc[]\n",
    "                            # we cant use .iloc[] or [], they will throw error!\n"
   ]
  },
  {
   "cell_type": "code",
   "execution_count": 61,
   "id": "749be496",
   "metadata": {},
   "outputs": [
    {
     "data": {
      "text/plain": [
       "Germany     80.9\n",
       "Japan      128.0\n",
       "US         350.0\n",
       "Name: Population, dtype: float64"
      ]
     },
     "execution_count": 61,
     "metadata": {},
     "output_type": "execute_result"
    }
   ],
   "source": [
    "df.loc[df['Population']>70,'Population'] # we can add multiple dimenstions as well to filter for the columns we need\n"
   ]
  },
  {
   "cell_type": "code",
   "execution_count": 62,
   "id": "4ff7bfc3",
   "metadata": {},
   "outputs": [
    {
     "data": {
      "text/html": [
       "<div>\n",
       "<style scoped>\n",
       "    .dataframe tbody tr th:only-of-type {\n",
       "        vertical-align: middle;\n",
       "    }\n",
       "\n",
       "    .dataframe tbody tr th {\n",
       "        vertical-align: top;\n",
       "    }\n",
       "\n",
       "    .dataframe thead th {\n",
       "        text-align: right;\n",
       "    }\n",
       "</style>\n",
       "<table border=\"1\" class=\"dataframe\">\n",
       "  <thead>\n",
       "    <tr style=\"text-align: right;\">\n",
       "      <th></th>\n",
       "      <th>Population</th>\n",
       "      <th>GDP</th>\n",
       "    </tr>\n",
       "  </thead>\n",
       "  <tbody>\n",
       "    <tr>\n",
       "      <th>Germany</th>\n",
       "      <td>80.9</td>\n",
       "      <td>3874437</td>\n",
       "    </tr>\n",
       "    <tr>\n",
       "      <th>Japan</th>\n",
       "      <td>128.0</td>\n",
       "      <td>4602367</td>\n",
       "    </tr>\n",
       "    <tr>\n",
       "      <th>US</th>\n",
       "      <td>350.0</td>\n",
       "      <td>17348075</td>\n",
       "    </tr>\n",
       "  </tbody>\n",
       "</table>\n",
       "</div>"
      ],
      "text/plain": [
       "         Population       GDP\n",
       "Germany        80.9   3874437\n",
       "Japan         128.0   4602367\n",
       "US            350.0  17348075"
      ]
     },
     "execution_count": 62,
     "metadata": {},
     "output_type": "execute_result"
    }
   ],
   "source": [
    "df.loc[df['Population']>70,['Population','GDP']]\n"
   ]
  },
  {
   "cell_type": "markdown",
   "id": "8b0b9b06",
   "metadata": {},
   "source": [
    "### Dropping Stuff"
   ]
  },
  {
   "cell_type": "markdown",
   "id": "29daa32b",
   "metadata": {},
   "source": [
    "Dropping stuff is sort of the inverse of selection but we dont really drop anything! "
   ]
  },
  {
   "cell_type": "code",
   "execution_count": 63,
   "id": "bd35cb8a",
   "metadata": {},
   "outputs": [
    {
     "data": {
      "text/html": [
       "<div>\n",
       "<style scoped>\n",
       "    .dataframe tbody tr th:only-of-type {\n",
       "        vertical-align: middle;\n",
       "    }\n",
       "\n",
       "    .dataframe tbody tr th {\n",
       "        vertical-align: top;\n",
       "    }\n",
       "\n",
       "    .dataframe thead th {\n",
       "        text-align: right;\n",
       "    }\n",
       "</style>\n",
       "<table border=\"1\" class=\"dataframe\">\n",
       "  <thead>\n",
       "    <tr style=\"text-align: right;\">\n",
       "      <th></th>\n",
       "      <th>Population</th>\n",
       "      <th>GDP</th>\n",
       "      <th>Surface Area</th>\n",
       "      <th>HDI</th>\n",
       "      <th>Conti</th>\n",
       "    </tr>\n",
       "  </thead>\n",
       "  <tbody>\n",
       "    <tr>\n",
       "      <th>Canada</th>\n",
       "      <td>35.46</td>\n",
       "      <td>1785387</td>\n",
       "      <td>9984670</td>\n",
       "      <td>0.913</td>\n",
       "      <td>NaN</td>\n",
       "    </tr>\n",
       "    <tr>\n",
       "      <th>France</th>\n",
       "      <td>63.95</td>\n",
       "      <td>2833687</td>\n",
       "      <td>640679</td>\n",
       "      <td>0.888</td>\n",
       "      <td>NaN</td>\n",
       "    </tr>\n",
       "    <tr>\n",
       "      <th>Italy</th>\n",
       "      <td>60.60</td>\n",
       "      <td>2167744</td>\n",
       "      <td>301336</td>\n",
       "      <td>0.873</td>\n",
       "      <td>NaN</td>\n",
       "    </tr>\n",
       "    <tr>\n",
       "      <th>Japan</th>\n",
       "      <td>128.00</td>\n",
       "      <td>4602367</td>\n",
       "      <td>377930</td>\n",
       "      <td>0.891</td>\n",
       "      <td>NaN</td>\n",
       "    </tr>\n",
       "    <tr>\n",
       "      <th>United Kingdom</th>\n",
       "      <td>64.00</td>\n",
       "      <td>2950039</td>\n",
       "      <td>242495</td>\n",
       "      <td>0.907</td>\n",
       "      <td>NaN</td>\n",
       "    </tr>\n",
       "    <tr>\n",
       "      <th>US</th>\n",
       "      <td>350.00</td>\n",
       "      <td>17348075</td>\n",
       "      <td>9525067</td>\n",
       "      <td>0.915</td>\n",
       "      <td>NaN</td>\n",
       "    </tr>\n",
       "  </tbody>\n",
       "</table>\n",
       "</div>"
      ],
      "text/plain": [
       "                Population       GDP  Surface Area    HDI Conti\n",
       "Canada               35.46   1785387       9984670  0.913   NaN\n",
       "France               63.95   2833687        640679  0.888   NaN\n",
       "Italy                60.60   2167744        301336  0.873   NaN\n",
       "Japan               128.00   4602367        377930  0.891   NaN\n",
       "United Kingdom       64.00   2950039        242495  0.907   NaN\n",
       "US                  350.00  17348075       9525067  0.915   NaN"
      ]
     },
     "execution_count": 63,
     "metadata": {},
     "output_type": "execute_result"
    }
   ],
   "source": [
    "df.drop('Germany')"
   ]
  },
  {
   "cell_type": "code",
   "execution_count": 64,
   "id": "02a3261d",
   "metadata": {},
   "outputs": [
    {
     "data": {
      "text/html": [
       "<div>\n",
       "<style scoped>\n",
       "    .dataframe tbody tr th:only-of-type {\n",
       "        vertical-align: middle;\n",
       "    }\n",
       "\n",
       "    .dataframe tbody tr th {\n",
       "        vertical-align: top;\n",
       "    }\n",
       "\n",
       "    .dataframe thead th {\n",
       "        text-align: right;\n",
       "    }\n",
       "</style>\n",
       "<table border=\"1\" class=\"dataframe\">\n",
       "  <thead>\n",
       "    <tr style=\"text-align: right;\">\n",
       "      <th></th>\n",
       "      <th>Population</th>\n",
       "      <th>GDP</th>\n",
       "      <th>Surface Area</th>\n",
       "      <th>HDI</th>\n",
       "      <th>Conti</th>\n",
       "    </tr>\n",
       "  </thead>\n",
       "  <tbody>\n",
       "    <tr>\n",
       "      <th>Canada</th>\n",
       "      <td>35.46</td>\n",
       "      <td>1785387</td>\n",
       "      <td>9984670</td>\n",
       "      <td>0.913</td>\n",
       "      <td>NaN</td>\n",
       "    </tr>\n",
       "    <tr>\n",
       "      <th>France</th>\n",
       "      <td>63.95</td>\n",
       "      <td>2833687</td>\n",
       "      <td>640679</td>\n",
       "      <td>0.888</td>\n",
       "      <td>NaN</td>\n",
       "    </tr>\n",
       "    <tr>\n",
       "      <th>Italy</th>\n",
       "      <td>60.60</td>\n",
       "      <td>2167744</td>\n",
       "      <td>301336</td>\n",
       "      <td>0.873</td>\n",
       "      <td>NaN</td>\n",
       "    </tr>\n",
       "    <tr>\n",
       "      <th>United Kingdom</th>\n",
       "      <td>64.00</td>\n",
       "      <td>2950039</td>\n",
       "      <td>242495</td>\n",
       "      <td>0.907</td>\n",
       "      <td>NaN</td>\n",
       "    </tr>\n",
       "    <tr>\n",
       "      <th>US</th>\n",
       "      <td>350.00</td>\n",
       "      <td>17348075</td>\n",
       "      <td>9525067</td>\n",
       "      <td>0.915</td>\n",
       "      <td>NaN</td>\n",
       "    </tr>\n",
       "  </tbody>\n",
       "</table>\n",
       "</div>"
      ],
      "text/plain": [
       "                Population       GDP  Surface Area    HDI Conti\n",
       "Canada               35.46   1785387       9984670  0.913   NaN\n",
       "France               63.95   2833687        640679  0.888   NaN\n",
       "Italy                60.60   2167744        301336  0.873   NaN\n",
       "United Kingdom       64.00   2950039        242495  0.907   NaN\n",
       "US                  350.00  17348075       9525067  0.915   NaN"
      ]
     },
     "execution_count": 64,
     "metadata": {},
     "output_type": "execute_result"
    }
   ],
   "source": [
    "df.drop(['Germany','Japan']) # use a list if more than one rows (or columns)\n",
    "\n",
    "# we can drop stuff by specifying rows to be dropped or specifying columns (See syntax)"
   ]
  },
  {
   "cell_type": "code",
   "execution_count": 65,
   "id": "5557b857",
   "metadata": {},
   "outputs": [
    {
     "data": {
      "text/html": [
       "<div>\n",
       "<style scoped>\n",
       "    .dataframe tbody tr th:only-of-type {\n",
       "        vertical-align: middle;\n",
       "    }\n",
       "\n",
       "    .dataframe tbody tr th {\n",
       "        vertical-align: top;\n",
       "    }\n",
       "\n",
       "    .dataframe thead th {\n",
       "        text-align: right;\n",
       "    }\n",
       "</style>\n",
       "<table border=\"1\" class=\"dataframe\">\n",
       "  <thead>\n",
       "    <tr style=\"text-align: right;\">\n",
       "      <th></th>\n",
       "      <th>Surface Area</th>\n",
       "      <th>HDI</th>\n",
       "      <th>Conti</th>\n",
       "    </tr>\n",
       "  </thead>\n",
       "  <tbody>\n",
       "    <tr>\n",
       "      <th>Canada</th>\n",
       "      <td>9984670</td>\n",
       "      <td>0.913</td>\n",
       "      <td>NaN</td>\n",
       "    </tr>\n",
       "    <tr>\n",
       "      <th>France</th>\n",
       "      <td>640679</td>\n",
       "      <td>0.888</td>\n",
       "      <td>NaN</td>\n",
       "    </tr>\n",
       "    <tr>\n",
       "      <th>Germany</th>\n",
       "      <td>357114</td>\n",
       "      <td>0.916</td>\n",
       "      <td>NaN</td>\n",
       "    </tr>\n",
       "    <tr>\n",
       "      <th>Italy</th>\n",
       "      <td>301336</td>\n",
       "      <td>0.873</td>\n",
       "      <td>NaN</td>\n",
       "    </tr>\n",
       "    <tr>\n",
       "      <th>Japan</th>\n",
       "      <td>377930</td>\n",
       "      <td>0.891</td>\n",
       "      <td>NaN</td>\n",
       "    </tr>\n",
       "    <tr>\n",
       "      <th>United Kingdom</th>\n",
       "      <td>242495</td>\n",
       "      <td>0.907</td>\n",
       "      <td>NaN</td>\n",
       "    </tr>\n",
       "    <tr>\n",
       "      <th>US</th>\n",
       "      <td>9525067</td>\n",
       "      <td>0.915</td>\n",
       "      <td>NaN</td>\n",
       "    </tr>\n",
       "  </tbody>\n",
       "</table>\n",
       "</div>"
      ],
      "text/plain": [
       "                Surface Area    HDI Conti\n",
       "Canada               9984670  0.913   NaN\n",
       "France                640679  0.888   NaN\n",
       "Germany               357114  0.916   NaN\n",
       "Italy                 301336  0.873   NaN\n",
       "Japan                 377930  0.891   NaN\n",
       "United Kingdom        242495  0.907   NaN\n",
       "US                   9525067  0.915   NaN"
      ]
     },
     "execution_count": 65,
     "metadata": {},
     "output_type": "execute_result"
    }
   ],
   "source": [
    "df.drop(columns = ['Population','GDP'])# dropping columns "
   ]
  },
  {
   "cell_type": "code",
   "execution_count": 90,
   "id": "6870464a",
   "metadata": {},
   "outputs": [
    {
     "data": {
      "text/html": [
       "<div>\n",
       "<style scoped>\n",
       "    .dataframe tbody tr th:only-of-type {\n",
       "        vertical-align: middle;\n",
       "    }\n",
       "\n",
       "    .dataframe tbody tr th {\n",
       "        vertical-align: top;\n",
       "    }\n",
       "\n",
       "    .dataframe thead th {\n",
       "        text-align: right;\n",
       "    }\n",
       "</style>\n",
       "<table border=\"1\" class=\"dataframe\">\n",
       "  <thead>\n",
       "    <tr style=\"text-align: right;\">\n",
       "      <th></th>\n",
       "      <th>Population</th>\n",
       "      <th>GDP</th>\n",
       "      <th>Surface Area</th>\n",
       "      <th>HDI</th>\n",
       "      <th>Conti</th>\n",
       "      <th>GDP/Capita</th>\n",
       "    </tr>\n",
       "  </thead>\n",
       "  <tbody>\n",
       "    <tr>\n",
       "      <th>Canada</th>\n",
       "      <td>35.46</td>\n",
       "      <td>1785387</td>\n",
       "      <td>9984670</td>\n",
       "      <td>0.913</td>\n",
       "      <td>NaN</td>\n",
       "      <td>50349.323181</td>\n",
       "    </tr>\n",
       "    <tr>\n",
       "      <th>France</th>\n",
       "      <td>63.95</td>\n",
       "      <td>2833687</td>\n",
       "      <td>640679</td>\n",
       "      <td>0.888</td>\n",
       "      <td>NaN</td>\n",
       "      <td>44310.977326</td>\n",
       "    </tr>\n",
       "    <tr>\n",
       "      <th>Germany</th>\n",
       "      <td>80.90</td>\n",
       "      <td>3874437</td>\n",
       "      <td>357114</td>\n",
       "      <td>0.916</td>\n",
       "      <td>NaN</td>\n",
       "      <td>47891.681088</td>\n",
       "    </tr>\n",
       "    <tr>\n",
       "      <th>Italy</th>\n",
       "      <td>60.60</td>\n",
       "      <td>2167744</td>\n",
       "      <td>301336</td>\n",
       "      <td>0.873</td>\n",
       "      <td>NaN</td>\n",
       "      <td>35771.353135</td>\n",
       "    </tr>\n",
       "    <tr>\n",
       "      <th>Japan</th>\n",
       "      <td>128.00</td>\n",
       "      <td>4602367</td>\n",
       "      <td>377930</td>\n",
       "      <td>0.891</td>\n",
       "      <td>NaN</td>\n",
       "      <td>35955.992188</td>\n",
       "    </tr>\n",
       "    <tr>\n",
       "      <th>United Kingdom</th>\n",
       "      <td>64.00</td>\n",
       "      <td>2950039</td>\n",
       "      <td>242495</td>\n",
       "      <td>0.907</td>\n",
       "      <td>NaN</td>\n",
       "      <td>46094.359375</td>\n",
       "    </tr>\n",
       "    <tr>\n",
       "      <th>US</th>\n",
       "      <td>350.00</td>\n",
       "      <td>17348075</td>\n",
       "      <td>9525067</td>\n",
       "      <td>0.915</td>\n",
       "      <td>NaN</td>\n",
       "      <td>49565.928571</td>\n",
       "    </tr>\n",
       "  </tbody>\n",
       "</table>\n",
       "</div>"
      ],
      "text/plain": [
       "                Population       GDP  Surface Area    HDI Conti    GDP/Capita\n",
       "Canada               35.46   1785387       9984670  0.913   NaN  50349.323181\n",
       "France               63.95   2833687        640679  0.888   NaN  44310.977326\n",
       "Germany              80.90   3874437        357114  0.916   NaN  47891.681088\n",
       "Italy                60.60   2167744        301336  0.873   NaN  35771.353135\n",
       "Japan               128.00   4602367        377930  0.891   NaN  35955.992188\n",
       "United Kingdom       64.00   2950039        242495  0.907   NaN  46094.359375\n",
       "US                  350.00  17348075       9525067  0.915   NaN  49565.928571"
      ]
     },
     "execution_count": 90,
     "metadata": {},
     "output_type": "execute_result"
    }
   ],
   "source": [
    "df"
   ]
  },
  {
   "cell_type": "markdown",
   "id": "82d3a486",
   "metadata": {},
   "source": [
    "#### Most (99.9%) of Pandas operations are immutable, they are not changing the underlying dataframe"
   ]
  },
  {
   "cell_type": "markdown",
   "id": "6380b622",
   "metadata": {},
   "source": [
    "### Modifying dataframes"
   ]
  },
  {
   "cell_type": "code",
   "execution_count": null,
   "id": "c27d752f",
   "metadata": {},
   "outputs": [],
   "source": []
  },
  {
   "cell_type": "code",
   "execution_count": null,
   "id": "3ad38a80",
   "metadata": {},
   "outputs": [],
   "source": []
  },
  {
   "cell_type": "code",
   "execution_count": null,
   "id": "24cd115d",
   "metadata": {},
   "outputs": [],
   "source": []
  },
  {
   "cell_type": "code",
   "execution_count": null,
   "id": "19af6e25",
   "metadata": {},
   "outputs": [],
   "source": []
  },
  {
   "cell_type": "code",
   "execution_count": null,
   "id": "c1c9c016",
   "metadata": {},
   "outputs": [],
   "source": []
  },
  {
   "cell_type": "markdown",
   "id": "4421f1e1",
   "metadata": {},
   "source": [
    "### Creating new columns from existing columns"
   ]
  },
  {
   "cell_type": "code",
   "execution_count": 89,
   "id": "ab8dcf52",
   "metadata": {},
   "outputs": [
    {
     "data": {
      "text/html": [
       "<div>\n",
       "<style scoped>\n",
       "    .dataframe tbody tr th:only-of-type {\n",
       "        vertical-align: middle;\n",
       "    }\n",
       "\n",
       "    .dataframe tbody tr th {\n",
       "        vertical-align: top;\n",
       "    }\n",
       "\n",
       "    .dataframe thead th {\n",
       "        text-align: right;\n",
       "    }\n",
       "</style>\n",
       "<table border=\"1\" class=\"dataframe\">\n",
       "  <thead>\n",
       "    <tr style=\"text-align: right;\">\n",
       "      <th></th>\n",
       "      <th>Population</th>\n",
       "      <th>GDP</th>\n",
       "      <th>Surface Area</th>\n",
       "      <th>HDI</th>\n",
       "      <th>Conti</th>\n",
       "      <th>GDP/Capita</th>\n",
       "    </tr>\n",
       "  </thead>\n",
       "  <tbody>\n",
       "    <tr>\n",
       "      <th>Canada</th>\n",
       "      <td>35.46</td>\n",
       "      <td>1785387</td>\n",
       "      <td>9984670</td>\n",
       "      <td>0.913</td>\n",
       "      <td>NaN</td>\n",
       "      <td>50349.323181</td>\n",
       "    </tr>\n",
       "    <tr>\n",
       "      <th>France</th>\n",
       "      <td>63.95</td>\n",
       "      <td>2833687</td>\n",
       "      <td>640679</td>\n",
       "      <td>0.888</td>\n",
       "      <td>NaN</td>\n",
       "      <td>44310.977326</td>\n",
       "    </tr>\n",
       "    <tr>\n",
       "      <th>Germany</th>\n",
       "      <td>80.90</td>\n",
       "      <td>3874437</td>\n",
       "      <td>357114</td>\n",
       "      <td>0.916</td>\n",
       "      <td>NaN</td>\n",
       "      <td>47891.681088</td>\n",
       "    </tr>\n",
       "    <tr>\n",
       "      <th>Italy</th>\n",
       "      <td>60.60</td>\n",
       "      <td>2167744</td>\n",
       "      <td>301336</td>\n",
       "      <td>0.873</td>\n",
       "      <td>NaN</td>\n",
       "      <td>35771.353135</td>\n",
       "    </tr>\n",
       "    <tr>\n",
       "      <th>Japan</th>\n",
       "      <td>128.00</td>\n",
       "      <td>4602367</td>\n",
       "      <td>377930</td>\n",
       "      <td>0.891</td>\n",
       "      <td>NaN</td>\n",
       "      <td>35955.992188</td>\n",
       "    </tr>\n",
       "    <tr>\n",
       "      <th>United Kingdom</th>\n",
       "      <td>64.00</td>\n",
       "      <td>2950039</td>\n",
       "      <td>242495</td>\n",
       "      <td>0.907</td>\n",
       "      <td>NaN</td>\n",
       "      <td>46094.359375</td>\n",
       "    </tr>\n",
       "    <tr>\n",
       "      <th>US</th>\n",
       "      <td>350.00</td>\n",
       "      <td>17348075</td>\n",
       "      <td>9525067</td>\n",
       "      <td>0.915</td>\n",
       "      <td>NaN</td>\n",
       "      <td>49565.928571</td>\n",
       "    </tr>\n",
       "  </tbody>\n",
       "</table>\n",
       "</div>"
      ],
      "text/plain": [
       "                Population       GDP  Surface Area    HDI Conti    GDP/Capita\n",
       "Canada               35.46   1785387       9984670  0.913   NaN  50349.323181\n",
       "France               63.95   2833687        640679  0.888   NaN  44310.977326\n",
       "Germany              80.90   3874437        357114  0.916   NaN  47891.681088\n",
       "Italy                60.60   2167744        301336  0.873   NaN  35771.353135\n",
       "Japan               128.00   4602367        377930  0.891   NaN  35955.992188\n",
       "United Kingdom       64.00   2950039        242495  0.907   NaN  46094.359375\n",
       "US                  350.00  17348075       9525067  0.915   NaN  49565.928571"
      ]
     },
     "execution_count": 89,
     "metadata": {},
     "output_type": "execute_result"
    }
   ],
   "source": [
    "df['GDP/Capita'] = df['GDP']/df['Population']\n",
    "df"
   ]
  },
  {
   "cell_type": "markdown",
   "id": "a2436f87",
   "metadata": {},
   "source": [
    " <font color ='red'>**Until this point, I have done the portion of this video https://www.youtube.com/watch?v=r-uOLxNrNk8&ab_channel=freeCodeCamp.org until 1h:05 to 2h:37 minutes , and will get back to rest of the tutorial later. This had covered MumPy basics and Pandas basics** </font."
   ]
  },
  {
   "cell_type": "code",
   "execution_count": null,
   "id": "d01ee83a",
   "metadata": {},
   "outputs": [],
   "source": []
  },
  {
   "cell_type": "markdown",
   "id": "91a7eaa4",
   "metadata": {},
   "source": [
    "# from this point on I am using this tutorial \n",
    "https://towardsdatascience.com/pandas-full-tutorial-on-a-single-dataset-4aa43461e1e2 "
   ]
  },
  {
   "cell_type": "markdown",
   "id": "5b677280",
   "metadata": {},
   "source": [
    "## <font color='red'>it has some really important concepts so definitely dont skip this one </font>"
   ]
  },
  {
   "cell_type": "markdown",
   "id": "03aaf682",
   "metadata": {},
   "source": [
    "### Some important concepts"
   ]
  },
  {
   "cell_type": "markdown",
   "id": "2f390abc",
   "metadata": {},
   "source": [
    "1) Understanding “Axis”\n",
    "A DataFrame object has two axes: “axis 0” and “axis 1”:\n",
    "\n",
    "axis 0: Wherever you see this -> it represents rows\n",
    "axis 1: Wherever you see this -> it represents columns\n",
    "\n",
    "\n",
    "2) Understanding “Inplace”\n",
    "Understanding the “inplace” parameter can help us a lot of time and memory!\n",
    "\n",
    "When inplace = False -> which is the default, then the operation is performed and it returns a copy of the object. You then need to save it to something.\n",
    "\n",
    "temp=df.set_index(‘CustomerId’)# here by Default inplace = False\n",
    "temp\n",
    "While , When inplace = True -> the data is modified in place, which means it will return nothing and the dataframe is now updated.\n",
    "\n",
    "df.set_index(‘CustomerId’,inplace=True)\n",
    "df"
   ]
  },
  {
   "cell_type": "code",
   "execution_count": null,
   "id": "e87bbc2d",
   "metadata": {},
   "outputs": [],
   "source": []
  },
  {
   "cell_type": "code",
   "execution_count": null,
   "id": "02866727",
   "metadata": {},
   "outputs": [],
   "source": []
  },
  {
   "cell_type": "code",
   "execution_count": null,
   "id": "76069b44",
   "metadata": {},
   "outputs": [],
   "source": []
  },
  {
   "cell_type": "code",
   "execution_count": null,
   "id": "ba30bfe0",
   "metadata": {},
   "outputs": [],
   "source": []
  },
  {
   "cell_type": "code",
   "execution_count": null,
   "id": "7eb79bd0",
   "metadata": {},
   "outputs": [],
   "source": []
  },
  {
   "cell_type": "code",
   "execution_count": null,
   "id": "048074bb",
   "metadata": {},
   "outputs": [],
   "source": []
  },
  {
   "cell_type": "code",
   "execution_count": null,
   "id": "ebcd42f9",
   "metadata": {},
   "outputs": [],
   "source": []
  },
  {
   "cell_type": "code",
   "execution_count": null,
   "id": "8722dca1",
   "metadata": {},
   "outputs": [],
   "source": []
  },
  {
   "cell_type": "code",
   "execution_count": null,
   "id": "659be771",
   "metadata": {},
   "outputs": [],
   "source": []
  },
  {
   "cell_type": "code",
   "execution_count": null,
   "id": "281f304d",
   "metadata": {},
   "outputs": [],
   "source": []
  },
  {
   "cell_type": "code",
   "execution_count": null,
   "id": "2e4d58cc",
   "metadata": {},
   "outputs": [],
   "source": []
  },
  {
   "cell_type": "code",
   "execution_count": null,
   "id": "ab146b0e",
   "metadata": {},
   "outputs": [],
   "source": []
  },
  {
   "cell_type": "code",
   "execution_count": null,
   "id": "5b2a3b84",
   "metadata": {},
   "outputs": [],
   "source": []
  },
  {
   "cell_type": "code",
   "execution_count": null,
   "id": "ca06401d",
   "metadata": {},
   "outputs": [],
   "source": []
  },
  {
   "cell_type": "code",
   "execution_count": null,
   "id": "24f17037",
   "metadata": {},
   "outputs": [],
   "source": []
  },
  {
   "cell_type": "code",
   "execution_count": null,
   "id": "584286e2",
   "metadata": {},
   "outputs": [],
   "source": []
  },
  {
   "cell_type": "markdown",
   "id": "9b3812a1",
   "metadata": {},
   "source": [
    "# from this point on I am using this tutorial\n",
    "https://www.datacamp.com/tutorial/pandas-tutorial-dataframe-python"
   ]
  },
  {
   "cell_type": "code",
   "execution_count": null,
   "id": "6100e08b",
   "metadata": {},
   "outputs": [],
   "source": []
  },
  {
   "cell_type": "code",
   "execution_count": null,
   "id": "40dc556a",
   "metadata": {},
   "outputs": [],
   "source": []
  },
  {
   "cell_type": "code",
   "execution_count": null,
   "id": "3288fc67",
   "metadata": {},
   "outputs": [],
   "source": []
  },
  {
   "cell_type": "code",
   "execution_count": null,
   "id": "d90cb87b",
   "metadata": {},
   "outputs": [],
   "source": []
  },
  {
   "cell_type": "code",
   "execution_count": null,
   "id": "6b46e339",
   "metadata": {},
   "outputs": [],
   "source": []
  },
  {
   "cell_type": "code",
   "execution_count": null,
   "id": "63f7726b",
   "metadata": {},
   "outputs": [],
   "source": []
  },
  {
   "cell_type": "code",
   "execution_count": null,
   "id": "d0ee50c1",
   "metadata": {},
   "outputs": [],
   "source": []
  },
  {
   "cell_type": "code",
   "execution_count": null,
   "id": "9e1286b2",
   "metadata": {},
   "outputs": [],
   "source": []
  },
  {
   "cell_type": "code",
   "execution_count": null,
   "id": "02ddf10e",
   "metadata": {},
   "outputs": [],
   "source": []
  },
  {
   "cell_type": "code",
   "execution_count": null,
   "id": "831cff42",
   "metadata": {},
   "outputs": [],
   "source": []
  },
  {
   "cell_type": "code",
   "execution_count": null,
   "id": "b607e240",
   "metadata": {},
   "outputs": [],
   "source": []
  },
  {
   "cell_type": "code",
   "execution_count": null,
   "id": "6ff46691",
   "metadata": {},
   "outputs": [],
   "source": []
  },
  {
   "cell_type": "code",
   "execution_count": null,
   "id": "01ccf6d1",
   "metadata": {},
   "outputs": [],
   "source": []
  },
  {
   "cell_type": "code",
   "execution_count": null,
   "id": "bd5c9741",
   "metadata": {},
   "outputs": [],
   "source": []
  },
  {
   "cell_type": "code",
   "execution_count": null,
   "id": "b71c54d5",
   "metadata": {},
   "outputs": [],
   "source": []
  }
 ],
 "metadata": {
  "kernelspec": {
   "display_name": "Python 3 (ipykernel)",
   "language": "python",
   "name": "python3"
  },
  "language_info": {
   "codemirror_mode": {
    "name": "ipython",
    "version": 3
   },
   "file_extension": ".py",
   "mimetype": "text/x-python",
   "name": "python",
   "nbconvert_exporter": "python",
   "pygments_lexer": "ipython3",
   "version": "3.11.3"
  }
 },
 "nbformat": 4,
 "nbformat_minor": 5
}
