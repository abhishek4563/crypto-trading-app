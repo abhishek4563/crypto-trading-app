{
 "cells": [
  {
   "cell_type": "markdown",
   "id": "54c026ea",
   "metadata": {},
   "source": [
    "# README\n",
    "<>"
   ]
  },
  {
   "cell_type": "markdown",
   "id": "b2db6919",
   "metadata": {},
   "source": [
    "### customising the theme and look of Jupyter notebook\n",
    "#!jt -l\n",
    "!jt -t gruvboxd\n",
    "To restore the default theme of the notebook, run the command line statement as !jt -r\n",
    "\n",
    "Enable the toolbar: !jt -t [theme name] -T\n",
    "\n",
    "Enable the filename and logo: !jt -t [theme name] -N\n",
    "\n",
    "Enable the kernel logo: !jt -t [theme name] -kl"
   ]
  },
  {
   "cell_type": "code",
   "execution_count": 2,
   "id": "023e9c69",
   "metadata": {},
   "outputs": [],
   "source": [
    "import pandas as pd\n",
    "import json \n",
    "import matplotlib.pyplot as plt\n",
    "import seaborn as sns\n",
    "import random\n",
    "import datetime as dt\n",
    "pd.set_option('display.max_columns', None) # so that we can view the pandas dataframes better source link\n",
    "pd.set_option(\"display.precision\", 2) # https://towardsdatascience.com/pandas-full-tutorial-on-a-single-dataset-4aa43461e1e2\n",
    "\n",
    "\n",
    "#All necessary plotly libraries\n",
    "import plotly as py\n",
    "import plotly.io as pio\n",
    "import plotly.graph_objects as go\n",
    "import plotly.express as px\n",
    "from plotly.subplots import make_subplots\n",
    "from plotly.offline import download_plotlyjs, init_notebook_mode, plot, iplot"
   ]
  },
  {
   "cell_type": "code",
   "execution_count": 1,
   "id": "8505eb3f",
   "metadata": {},
   "outputs": [
    {
     "data": {
      "text/html": [
       "<style>.container { width:90% !important; }</style>"
      ],
      "text/plain": [
       "<IPython.core.display.HTML object>"
      ]
     },
     "metadata": {},
     "output_type": "display_data"
    }
   ],
   "source": [
    "# making notebook wider\n",
    "from IPython.display import display, HTML\n",
    "display(HTML(\"<style>.container { width:90% !important; }</style>\"))\n",
    "\n",
    "# fix for amking sure plotly plots dont disappear https://plotly.com/python/troubleshooting/\n",
    "import plotly.io as pio\n",
    "pio.renderers.default='notebook'"
   ]
  },
  {
   "cell_type": "code",
   "execution_count": 3,
   "id": "65cf8d9f",
   "metadata": {},
   "outputs": [],
   "source": [
    "sns.set_theme(style=\"white\")\n",
    "sns.set(rc={'figure.figsize':(15,8)})"
   ]
  }
 ],
 "metadata": {
  "kernelspec": {
   "display_name": "Python 3 (ipykernel)",
   "language": "python",
   "name": "python3"
  },
  "language_info": {
   "codemirror_mode": {
    "name": "ipython",
    "version": 3
   },
   "file_extension": ".py",
   "mimetype": "text/x-python",
   "name": "python",
   "nbconvert_exporter": "python",
   "pygments_lexer": "ipython3",
   "version": "3.11.3"
  }
 },
 "nbformat": 4,
 "nbformat_minor": 5
}
